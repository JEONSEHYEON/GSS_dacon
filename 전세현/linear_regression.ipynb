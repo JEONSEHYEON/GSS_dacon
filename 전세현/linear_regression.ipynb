{
  "nbformat": 4,
  "nbformat_minor": 0,
  "metadata": {
    "colab": {
      "name": "Untitled1.ipynb",
      "provenance": [],
      "collapsed_sections": [],
      "authorship_tag": "ABX9TyMSWJfFFmkvH8C6Bthk05lR"
    },
    "kernelspec": {
      "name": "python3",
      "display_name": "Python 3"
    },
    "language_info": {
      "name": "python"
    }
  },
  "cells": [
    {
      "cell_type": "code",
      "metadata": {
        "colab": {
          "base_uri": "https://localhost:8080/"
        },
        "id": "hPrHIrlUu3vA",
        "outputId": "24932551-9cdf-43c5-9fa1-a78eb93bb5d2"
      },
      "source": [
        "from google.colab import drive\n",
        "drive.mount('/content/drive')"
      ],
      "execution_count": 46,
      "outputs": [
        {
          "output_type": "stream",
          "name": "stdout",
          "text": [
            "Drive already mounted at /content/drive; to attempt to forcibly remount, call drive.mount(\"/content/drive\", force_remount=True).\n"
          ]
        }
      ]
    },
    {
      "cell_type": "code",
      "metadata": {
        "id": "ntN_y_TItrut"
      },
      "source": [
        "import pandas as pd\n",
        "import numpy as np\n",
        "import lightgbm\n",
        "from tqdm import tqdm\n",
        "import warnings\n",
        "from sklearn.linear_model import LinearRegression"
      ],
      "execution_count": 47,
      "outputs": []
    },
    {
      "cell_type": "code",
      "metadata": {
        "id": "DBLGHW4QttUB"
      },
      "source": [
        "pd.set_option('mode.chained_assignment', None)\n",
        "warnings.filterwarnings(action='ignore')"
      ],
      "execution_count": 48,
      "outputs": []
    },
    {
      "cell_type": "code",
      "metadata": {
        "id": "cGOnwwZntvPa"
      },
      "source": [
        "def preprocessing(temp_df, pum, len_lag) :\n",
        "    # p_lag, q_lag 추가\n",
        "    for lag in range(1,len_lag+1) :\n",
        "      temp_df[f'p_lag_{lag}'] = -1\n",
        "      temp_df[f'q_lag_{lag}'] = -1\n",
        "      for index in range(lag, len(temp_df)) :\n",
        "        temp_df.loc[index, f'p_lag_{lag}'] = temp_df[f'{pum}_가격(원/kg)'][index-lag] #1일전, 2일전, ... 가격을 feature로 추가\n",
        "        temp_df.loc[index, f'q_lag_{lag}'] = temp_df[f'{pum}_거래량(kg)'][index-lag] #1일전, 2일전, ... 거래량을 feature로 추가\n",
        "\n",
        "    # month 추가\n",
        "    temp_df['date'] = pd.to_datetime(temp_df['date'])\n",
        "    temp_df['month'] = temp_df['date'].dt.month\n",
        "\n",
        "    # 예측 대상(1w,2w,4w) 추가\n",
        "    for week in ['1_week','2_week','4_week'] :\n",
        "      temp_df[week] = 0\n",
        "      n_week = int(week[0])\n",
        "      for index in range(len(temp_df)) :\n",
        "        try : temp_df[week][index] = temp_df[f'{pum}_가격(원/kg)'][index+7*n_week]\n",
        "        except : continue\n",
        "\n",
        "    # 불필요한 column 제거        \n",
        "    temp_df = temp_df.drop(['date',f'{pum}_거래량(kg)',f'{pum}_가격(원/kg)'], axis=1)\n",
        "    \n",
        "    return temp_df"
      ],
      "execution_count": 49,
      "outputs": []
    },
    {
      "cell_type": "code",
      "metadata": {
        "id": "4Jgx92q1txvX"
      },
      "source": [
        "train = pd.read_csv('/content/drive/MyDrive/농산물AI/test_files/train.csv')\n"
      ],
      "execution_count": 50,
      "outputs": []
    },
    {
      "cell_type": "code",
      "metadata": {
        "id": "EDdpgyKGy898"
      },
      "source": [
        "train"
      ],
      "execution_count": null,
      "outputs": []
    },
    {
      "cell_type": "code",
      "metadata": {
        "id": "qFre4lY9vOyn"
      },
      "source": [
        "def nmae(week_answer, week_submission):\n",
        "    answer = week_answer.to_numpy()\n",
        "    target_idx = np.where(answer!=0)\n",
        "    true = answer[target_idx]\n",
        "    pred = week_submission[target_idx]\n",
        "    score = np.mean(np.abs(true-pred)/true)\n",
        "    \n",
        "    return score\n",
        "\n",
        "\n",
        "def at_nmae(pred, dataset):\n",
        "    y_true = dataset.get_label()\n",
        "    week_1_answer = y_true[0::3]\n",
        "    week_2_answer = y_true[1::3]\n",
        "    week_4_answer = y_true[2::3]\n",
        "    \n",
        "    week_1_submission = pred[0::3]\n",
        "    week_2_submission = pred[1::3]\n",
        "    week_4_submission = pred[2::3]\n",
        "    \n",
        "    score1 = nmae(week_1_answer, week_1_submission)\n",
        "    score2 = nmae(week_2_answer, week_2_submission)\n",
        "    score4 = nmae(week_4_answer, week_4_submission)\n",
        "    \n",
        "    score = (score1+score2+score4)/3\n",
        "    \n",
        "    return 'score', score, False"
      ],
      "execution_count": 52,
      "outputs": []
    },
    {
      "cell_type": "code",
      "metadata": {
        "id": "f1Zr9fGdvt2n"
      },
      "source": [
        "def model_train(x_train, y_train, x_valid, y_valid) :\n",
        "    params = {'learning_rate': 0.01, \n",
        "              'max_depth': 6, \n",
        "              'boosting': 'gbdt', \n",
        "              'objective': 'regression',  \n",
        "              'is_training_metric': True, \n",
        "              'num_leaves': 100, \n",
        "              'feature_fraction': 0.8, \n",
        "              'bagging_fraction': 0.8, \n",
        "              'bagging_freq': 5, \n",
        "              'seed':42,\n",
        "              'num_threads':8\n",
        "             }\n",
        "\n",
        "    model = lightgbm.train(params, \n",
        "                   train_set = lightgbm.Dataset(data = x_train, label = y_train),\n",
        "                   num_boost_round = 10000, \n",
        "                   valid_sets = lightgbm.Dataset(data = x_valid, label = y_valid), \n",
        "                   init_model = None, \n",
        "                   early_stopping_rounds = 100,\n",
        "                   feval = at_nmae,\n",
        "                   verbose_eval = False\n",
        "                    )\n",
        "    \n",
        "    return model"
      ],
      "execution_count": 121,
      "outputs": []
    },
    {
      "cell_type": "code",
      "metadata": {
        "id": "oRSnei9waWRB"
      },
      "source": [
        "def model_train(x_train, y_train, x_valid, y_valid) :\n",
        "    model =  LinearRegression()\n",
        "    x = pd.concat([x_train, x_valid]).reset_index()\n",
        "    y = pd.concat([y_train , y_valid]).reset_index()\n",
        "    model.fit(x, y)\n",
        "    return model"
      ],
      "execution_count": 82,
      "outputs": []
    },
    {
      "cell_type": "code",
      "metadata": {
        "id": "I3iXMIQcvx8D"
      },
      "source": [
        "unique_pum = [\n",
        "    '배추', '무', '양파', '건고추','마늘',\n",
        "    '대파', '얼갈이배추', '양배추', '깻잎',\n",
        "    '시금치', '미나리', '당근',\n",
        "    '파프리카', '새송이', '팽이버섯', '토마토',\n",
        "]\n",
        "\n",
        "unique_kind = [\n",
        "    '청상추', '백다다기', '애호박', '캠벨얼리', '샤인마스캇'\n",
        "]"
      ],
      "execution_count": 63,
      "outputs": []
    },
    {
      "cell_type": "code",
      "metadata": {
        "id": "IuOjb0cFjc6x"
      },
      "source": [
        "# for pum in tqdm(unique_pum + unique_kind):\n",
        "#     # 품목 품종별 전처리\n",
        "#     temp_df = train[['date',f'{pum}_거래량(kg)', f'{pum}_가격(원/kg)']]\n",
        "#     temp_df = preprocessing(temp_df, pum, len_lag=28)\n",
        "#     temp_df.to_csv(f'/content/drive/MyDrive/농산물AI/train_data/{pum}.csv',index=None)"
      ],
      "execution_count": 66,
      "outputs": []
    },
    {
      "cell_type": "code",
      "metadata": {
        "id": "ZvHt7QRDv5lZ"
      },
      "source": [
        "model_dict = {}\n",
        "split = 28 #validation\n",
        "\n",
        "for pum in tqdm(unique_pum + unique_kind):\n",
        "    # 품목 품종별 전처리\n",
        "    temp_df = pd.read_csv('/content/drive/MyDrive/농산물AI/train_data/' + f'{pum}.csv')\n",
        "    \n",
        "    # 주차별(1,2,4w) 학습\n",
        "    for week_num in [1,2,4] :\n",
        "        x = temp_df[temp_df[f'{week_num}_week']>0].iloc[:,:-3]\n",
        "        y = temp_df[temp_df[f'{week_num}_week']>0][f'{week_num}_week']\n",
        "        \n",
        "        #train, test split\n",
        "        x_train = x[:-split]\n",
        "        y_train = y[:-split]\n",
        "        x_valid = x[-split:]\n",
        "        y_valid = y[-split:]\n",
        "        \n",
        "        model_dict[f'{pum}_model_{week_num}'] = model_train(x_train, y_train, x_valid, y_valid)"
      ],
      "execution_count": null,
      "outputs": []
    },
    {
      "cell_type": "code",
      "metadata": {
        "colab": {
          "base_uri": "https://localhost:8080/"
        },
        "id": "XCHMG8FNubsB",
        "outputId": "db27f3a5-0cd7-4b99-f896-2db802134182"
      },
      "source": [
        "temp_df = pd.read_csv('/content/drive/MyDrive/농산물AI/train_data/' + f'배추.csv')\n",
        "for week_num in [1,2,4] :\n",
        "        x = temp_df[temp_df[f'{week_num}_week']>0].iloc[:,:-3]\n",
        "        y = temp_df[temp_df[f'{week_num}_week']>0][f'{week_num}_week']\n",
        "        print(x.head(1))\n",
        "        #train, test split\n",
        "        # x_train = x[:-split]\n",
        "        # y_train = y[:-split]\n",
        "        # x_valid = x[-split:]\n",
        "        # y_valid = y[-split:]\n",
        "        \n",
        "        # model_dict[f'{pum}_model_{week_num}'] = model_train(x_train, y_train, x_valid, y_valid)"
      ],
      "execution_count": 78,
      "outputs": [
        {
          "output_type": "stream",
          "name": "stdout",
          "text": [
            "   p_lag_1  q_lag_1  p_lag_2  q_lag_2  ...  q_lag_27  p_lag_28  q_lag_28  month\n",
            "0     -1.0     -1.0     -1.0     -1.0  ...      -1.0      -1.0      -1.0      1\n",
            "\n",
            "[1 rows x 57 columns]\n",
            "   p_lag_1  q_lag_1  p_lag_2  q_lag_2  ...  q_lag_27  p_lag_28  q_lag_28  month\n",
            "0     -1.0     -1.0     -1.0     -1.0  ...      -1.0      -1.0      -1.0      1\n",
            "\n",
            "[1 rows x 57 columns]\n",
            "   p_lag_1  q_lag_1  p_lag_2  q_lag_2  ...  q_lag_27  p_lag_28  q_lag_28  month\n",
            "0     -1.0     -1.0     -1.0     -1.0  ...      -1.0      -1.0      -1.0      1\n",
            "\n",
            "[1 rows x 57 columns]\n"
          ]
        }
      ]
    },
    {
      "cell_type": "code",
      "metadata": {
        "id": "6qllJbNwxCEM"
      },
      "source": [
        "submission = pd.read_csv('/content/drive/MyDrive/농산물AI/sample_submission.csv')\n",
        "public_date_list = submission[submission['예측대상일자'].str.contains('2020')]['예측대상일자'].str.split('+').str[0].unique()\n",
        "# ['2020-09-29', ...]\n",
        "\n",
        "for date in tqdm(public_date_list) :\n",
        "    test = pd.read_csv(f'/content/drive/MyDrive/농산물AI/test_files/test_{date}.csv')\n",
        "    for pum in unique_pum + unique_kind:\n",
        "        # 예측기준일에 대해 전처리\n",
        "        temp_test = pd.DataFrame([{'date' : date}]) #예측기준일\n",
        "        alldata = pd.concat([train, test, temp_test], sort=False).reset_index(drop=True)\n",
        "        alldata = alldata[['date', f'{pum}_거래량(kg)', f'{pum}_가격(원/kg)']].fillna(0)\n",
        "        alldata = alldata.iloc[-28:].reset_index(drop=True)\n",
        "        alldata = preprocessing(alldata, pum, len_lag=28)\n",
        "        temp_test = alldata.iloc[-1].astype(float)\n",
        "        print(temp_test)"
      ],
      "execution_count": null,
      "outputs": []
    },
    {
      "cell_type": "code",
      "metadata": {
        "colab": {
          "base_uri": "https://localhost:8080/",
          "height": 703
        },
        "id": "Mxx86IF32LYv",
        "outputId": "2a335f29-597f-4946-cd95-22a3213e1ca2"
      },
      "source": [
        "for date in tqdm(public_date_list) :\n",
        "    test = pd.read_csv(f'/content/drive/MyDrive/농산물AI/test_files/test_{date}.csv')\n",
        "    for pum in unique_pum + unique_kind:\n",
        "        # 예측기준일에 대해 전처리\n",
        "        temp_test = pd.DataFrame([{'date' : date}]) #예측기준일\n",
        "        alldata = pd.concat([train, test, temp_test], sort=False).reset_index(drop=True)\n",
        "        alldata = alldata[['date', f'{pum}_거래량(kg)', f'{pum}_가격(원/kg)']].fillna(0)\n",
        "        alldata = alldata.iloc[-28:].reset_index(drop=True)\n",
        "        alldata = preprocessing(alldata, pum, len_lag=28)\n",
        "        temp_test = alldata.iloc[-1].astype(float)\n",
        "        \n",
        "        # 개별 모델을 활용하여 1,2,4주 후 가격 예측\n",
        "        for week_num in [1,2,4] :\n",
        "            temp_model = model_dict[f'{pum}_model_{week_num}']\n",
        "            result = temp_model.predict(temp_test)\n",
        "            condition = (submission['예측대상일자']==f'{date}+{week_num}week')\n",
        "            idx = submission[condition].index\n",
        "            submission.loc[idx, f'{pum}_가격(원/kg)'] = result[0]"
      ],
      "execution_count": 120,
      "outputs": [
        {
          "output_type": "stream",
          "name": "stderr",
          "text": [
            "  0%|          | 0/38 [00:00<?, ?it/s]\n"
          ]
        },
        {
          "output_type": "error",
          "ename": "ValueError",
          "evalue": "ignored",
          "traceback": [
            "\u001b[0;31m---------------------------------------------------------------------------\u001b[0m",
            "\u001b[0;31mValueError\u001b[0m                                Traceback (most recent call last)",
            "\u001b[0;32m<ipython-input-120-3b4eacbf5ca6>\u001b[0m in \u001b[0;36m<module>\u001b[0;34m()\u001b[0m\n\u001b[1;32m     13\u001b[0m         \u001b[0;32mfor\u001b[0m \u001b[0mweek_num\u001b[0m \u001b[0;32min\u001b[0m \u001b[0;34m[\u001b[0m\u001b[0;36m1\u001b[0m\u001b[0;34m,\u001b[0m\u001b[0;36m2\u001b[0m\u001b[0;34m,\u001b[0m\u001b[0;36m4\u001b[0m\u001b[0;34m]\u001b[0m \u001b[0;34m:\u001b[0m\u001b[0;34m\u001b[0m\u001b[0;34m\u001b[0m\u001b[0m\n\u001b[1;32m     14\u001b[0m             \u001b[0mtemp_model\u001b[0m \u001b[0;34m=\u001b[0m \u001b[0mmodel_dict\u001b[0m\u001b[0;34m[\u001b[0m\u001b[0;34mf'{pum}_model_{week_num}'\u001b[0m\u001b[0;34m]\u001b[0m\u001b[0;34m\u001b[0m\u001b[0;34m\u001b[0m\u001b[0m\n\u001b[0;32m---> 15\u001b[0;31m             \u001b[0mresult\u001b[0m \u001b[0;34m=\u001b[0m \u001b[0mtemp_model\u001b[0m\u001b[0;34m.\u001b[0m\u001b[0mpredict\u001b[0m\u001b[0;34m(\u001b[0m\u001b[0mtemp_test\u001b[0m\u001b[0;34m)\u001b[0m\u001b[0;34m\u001b[0m\u001b[0;34m\u001b[0m\u001b[0m\n\u001b[0m\u001b[1;32m     16\u001b[0m             \u001b[0mcondition\u001b[0m \u001b[0;34m=\u001b[0m \u001b[0;34m(\u001b[0m\u001b[0msubmission\u001b[0m\u001b[0;34m[\u001b[0m\u001b[0;34m'예측대상일자'\u001b[0m\u001b[0;34m]\u001b[0m\u001b[0;34m==\u001b[0m\u001b[0;34mf'{date}+{week_num}week'\u001b[0m\u001b[0;34m)\u001b[0m\u001b[0;34m\u001b[0m\u001b[0;34m\u001b[0m\u001b[0m\n\u001b[1;32m     17\u001b[0m             \u001b[0midx\u001b[0m \u001b[0;34m=\u001b[0m \u001b[0msubmission\u001b[0m\u001b[0;34m[\u001b[0m\u001b[0mcondition\u001b[0m\u001b[0;34m]\u001b[0m\u001b[0;34m.\u001b[0m\u001b[0mindex\u001b[0m\u001b[0;34m\u001b[0m\u001b[0;34m\u001b[0m\u001b[0m\n",
            "\u001b[0;32m/usr/local/lib/python3.7/dist-packages/sklearn/linear_model/_base.py\u001b[0m in \u001b[0;36mpredict\u001b[0;34m(self, X)\u001b[0m\n\u001b[1;32m    223\u001b[0m             \u001b[0mReturns\u001b[0m \u001b[0mpredicted\u001b[0m \u001b[0mvalues\u001b[0m\u001b[0;34m.\u001b[0m\u001b[0;34m\u001b[0m\u001b[0;34m\u001b[0m\u001b[0m\n\u001b[1;32m    224\u001b[0m         \"\"\"\n\u001b[0;32m--> 225\u001b[0;31m         \u001b[0;32mreturn\u001b[0m \u001b[0mself\u001b[0m\u001b[0;34m.\u001b[0m\u001b[0m_decision_function\u001b[0m\u001b[0;34m(\u001b[0m\u001b[0mX\u001b[0m\u001b[0;34m)\u001b[0m\u001b[0;34m\u001b[0m\u001b[0;34m\u001b[0m\u001b[0m\n\u001b[0m\u001b[1;32m    226\u001b[0m \u001b[0;34m\u001b[0m\u001b[0m\n\u001b[1;32m    227\u001b[0m     \u001b[0m_preprocess_data\u001b[0m \u001b[0;34m=\u001b[0m \u001b[0mstaticmethod\u001b[0m\u001b[0;34m(\u001b[0m\u001b[0m_preprocess_data\u001b[0m\u001b[0;34m)\u001b[0m\u001b[0;34m\u001b[0m\u001b[0;34m\u001b[0m\u001b[0m\n",
            "\u001b[0;32m/usr/local/lib/python3.7/dist-packages/sklearn/linear_model/_base.py\u001b[0m in \u001b[0;36m_decision_function\u001b[0;34m(self, X)\u001b[0m\n\u001b[1;32m    205\u001b[0m         \u001b[0mcheck_is_fitted\u001b[0m\u001b[0;34m(\u001b[0m\u001b[0mself\u001b[0m\u001b[0;34m)\u001b[0m\u001b[0;34m\u001b[0m\u001b[0;34m\u001b[0m\u001b[0m\n\u001b[1;32m    206\u001b[0m \u001b[0;34m\u001b[0m\u001b[0m\n\u001b[0;32m--> 207\u001b[0;31m         \u001b[0mX\u001b[0m \u001b[0;34m=\u001b[0m \u001b[0mcheck_array\u001b[0m\u001b[0;34m(\u001b[0m\u001b[0mX\u001b[0m\u001b[0;34m,\u001b[0m \u001b[0maccept_sparse\u001b[0m\u001b[0;34m=\u001b[0m\u001b[0;34m[\u001b[0m\u001b[0;34m'csr'\u001b[0m\u001b[0;34m,\u001b[0m \u001b[0;34m'csc'\u001b[0m\u001b[0;34m,\u001b[0m \u001b[0;34m'coo'\u001b[0m\u001b[0;34m]\u001b[0m\u001b[0;34m)\u001b[0m\u001b[0;34m\u001b[0m\u001b[0;34m\u001b[0m\u001b[0m\n\u001b[0m\u001b[1;32m    208\u001b[0m         return safe_sparse_dot(X, self.coef_.T,\n\u001b[1;32m    209\u001b[0m                                dense_output=True) + self.intercept_\n",
            "\u001b[0;32m/usr/local/lib/python3.7/dist-packages/sklearn/utils/validation.py\u001b[0m in \u001b[0;36mcheck_array\u001b[0;34m(array, accept_sparse, accept_large_sparse, dtype, order, copy, force_all_finite, ensure_2d, allow_nd, ensure_min_samples, ensure_min_features, warn_on_dtype, estimator)\u001b[0m\n\u001b[1;32m    554\u001b[0m                     \u001b[0;34m\"Reshape your data either using array.reshape(-1, 1) if \"\u001b[0m\u001b[0;34m\u001b[0m\u001b[0;34m\u001b[0m\u001b[0m\n\u001b[1;32m    555\u001b[0m                     \u001b[0;34m\"your data has a single feature or array.reshape(1, -1) \"\u001b[0m\u001b[0;34m\u001b[0m\u001b[0;34m\u001b[0m\u001b[0m\n\u001b[0;32m--> 556\u001b[0;31m                     \"if it contains a single sample.\".format(array))\n\u001b[0m\u001b[1;32m    557\u001b[0m \u001b[0;34m\u001b[0m\u001b[0m\n\u001b[1;32m    558\u001b[0m         \u001b[0;31m# in the future np.flexible dtypes will be handled like object dtypes\u001b[0m\u001b[0;34m\u001b[0m\u001b[0;34m\u001b[0m\u001b[0;34m\u001b[0m\u001b[0m\n",
            "\u001b[0;31mValueError\u001b[0m: Expected 2D array, got 1D array instead:\narray=[ 1.8670000e+03  2.4050519e+06  3.0660000e+03  2.5396000e+04\n  1.7600000e+03  1.6610909e+06  1.7890000e+03  1.8800955e+06\n  1.8390000e+03  1.8569650e+06  1.8070000e+03  2.0074713e+06\n  1.8380000e+03  1.7574656e+06  1.8130000e+03  2.0462863e+06\n  2.9250000e+03  1.9590000e+03  1.8120000e+03  1.3460914e+06\n  1.8390000e+03  1.6245147e+06  1.9830000e+03  1.4591301e+06\n  1.9390000e+03  1.5327772e+06  2.0170000e+03  1.3413876e+06\n  2.0420000e+03  1.2215386e+06  0.0000000e+00  0.0000000e+00\n  1.7480000e+03  9.6811000e+05  1.5760000e+03  1.1568116e+06\n  1.5420000e+03  1.3022908e+06  1.5850000e+03  1.1817822e+06\n  1.9940000e+03  5.4084370e+05  1.6140000e+03  9.7502020e+05\n  0.0000000e+00  0.0000000e+00  1.3290000e+03  1.1044248e+06\n  1.3580000e+03  6.9818750e+05  1.4450000e+03  8.9562800e+05\n  1.1500000e+03  1.1447468e+06 -1.0000000e+00 -1.0000000e+00\n  9.0000000e+00  0.0000000e+00  0.0000000e+00  0.0000000e+00].\nReshape your data either using array.reshape(-1, 1) if your data has a single feature or array.reshape(1, -1) if it contains a single sample."
          ]
        }
      ]
    },
    {
      "cell_type": "code",
      "metadata": {
        "id": "o30xYyWiv8P0",
        "colab": {
          "base_uri": "https://localhost:8080/",
          "height": 404
        },
        "outputId": "7fecd268-d7d6-49c8-ff32-49fb91d0e438"
      },
      "source": [
        "submission = pd.read_csv('/content/drive/MyDrive/농산물AI/sample_submission.csv')\n",
        "public_date_list = submission[submission['예측대상일자'].str.contains('2020')]['예측대상일자'].str.split('+').str[0].unique()\n",
        "# ['2020-09-29', ...]\n",
        "\n",
        "for date in tqdm(public_date_list) :\n",
        "    test = pd.read_csv(f'/content/drive/MyDrive/농산물AI/test_files/test_{date}.csv')\n",
        "    for pum in unique_pum + unique_kind:\n",
        "        # 예측기준일에 대해 전처리\n",
        "        temp_test = pd.DataFrame([{'date' : date}]) #예측기준일\n",
        "        alldata = pd.concat([train, test, temp_test], sort=False).reset_index(drop=True)\n",
        "        alldata = alldata[['date', f'{pum}_거래량(kg)', f'{pum}_가격(원/kg)']].fillna(0)\n",
        "        alldata = alldata.iloc[-28:].reset_index(drop=True)\n",
        "        alldata = preprocessing(alldata, pum, len_lag=28)\n",
        "        temp_test = alldata.iloc[-1].astype(float).reset_index()\n",
        "        temp_test = pd.DataFrame(temp_test)\n",
        "        temp_test = temp_test.drop(['index'],axis=1).iloc[:-3]\n",
        "        np.reshape(temp_test.values,(1,-1))\n",
        "        \n",
        "        # 개별 모델을 활용하여 1,2,4주 후 가격 예측\n",
        "        for week_num in [1,2,4] :\n",
        "            temp_model = model_dict[f'{pum}_model_{week_num}']\n",
        "            result = temp_model.predict(temp_test)\n",
        "            condition = (submission['예측대상일자']==f'{date}+{week_num}week')\n",
        "            idx = submission[condition].index\n",
        "            submission.loc[idx, f'{pum}_가격(원/kg)'] = result[0]"
      ],
      "execution_count": 118,
      "outputs": [
        {
          "output_type": "stream",
          "name": "stderr",
          "text": [
            "  0%|          | 0/38 [00:00<?, ?it/s]\n"
          ]
        },
        {
          "output_type": "error",
          "ename": "ValueError",
          "evalue": "ignored",
          "traceback": [
            "\u001b[0;31m---------------------------------------------------------------------------\u001b[0m",
            "\u001b[0;31mValueError\u001b[0m                                Traceback (most recent call last)",
            "\u001b[0;32m<ipython-input-118-c103bf2ce3ff>\u001b[0m in \u001b[0;36m<module>\u001b[0;34m()\u001b[0m\n\u001b[1;32m     20\u001b[0m         \u001b[0;32mfor\u001b[0m \u001b[0mweek_num\u001b[0m \u001b[0;32min\u001b[0m \u001b[0;34m[\u001b[0m\u001b[0;36m1\u001b[0m\u001b[0;34m,\u001b[0m\u001b[0;36m2\u001b[0m\u001b[0;34m,\u001b[0m\u001b[0;36m4\u001b[0m\u001b[0;34m]\u001b[0m \u001b[0;34m:\u001b[0m\u001b[0;34m\u001b[0m\u001b[0;34m\u001b[0m\u001b[0m\n\u001b[1;32m     21\u001b[0m             \u001b[0mtemp_model\u001b[0m \u001b[0;34m=\u001b[0m \u001b[0mmodel_dict\u001b[0m\u001b[0;34m[\u001b[0m\u001b[0;34mf'{pum}_model_{week_num}'\u001b[0m\u001b[0;34m]\u001b[0m\u001b[0;34m\u001b[0m\u001b[0;34m\u001b[0m\u001b[0m\n\u001b[0;32m---> 22\u001b[0;31m             \u001b[0mresult\u001b[0m \u001b[0;34m=\u001b[0m \u001b[0mtemp_model\u001b[0m\u001b[0;34m.\u001b[0m\u001b[0mpredict\u001b[0m\u001b[0;34m(\u001b[0m\u001b[0mtemp_test\u001b[0m\u001b[0;34m)\u001b[0m\u001b[0;34m\u001b[0m\u001b[0;34m\u001b[0m\u001b[0m\n\u001b[0m\u001b[1;32m     23\u001b[0m             \u001b[0mcondition\u001b[0m \u001b[0;34m=\u001b[0m \u001b[0;34m(\u001b[0m\u001b[0msubmission\u001b[0m\u001b[0;34m[\u001b[0m\u001b[0;34m'예측대상일자'\u001b[0m\u001b[0;34m]\u001b[0m\u001b[0;34m==\u001b[0m\u001b[0;34mf'{date}+{week_num}week'\u001b[0m\u001b[0;34m)\u001b[0m\u001b[0;34m\u001b[0m\u001b[0;34m\u001b[0m\u001b[0m\n\u001b[1;32m     24\u001b[0m             \u001b[0midx\u001b[0m \u001b[0;34m=\u001b[0m \u001b[0msubmission\u001b[0m\u001b[0;34m[\u001b[0m\u001b[0mcondition\u001b[0m\u001b[0;34m]\u001b[0m\u001b[0;34m.\u001b[0m\u001b[0mindex\u001b[0m\u001b[0;34m\u001b[0m\u001b[0;34m\u001b[0m\u001b[0m\n",
            "\u001b[0;32m/usr/local/lib/python3.7/dist-packages/sklearn/linear_model/_base.py\u001b[0m in \u001b[0;36mpredict\u001b[0;34m(self, X)\u001b[0m\n\u001b[1;32m    223\u001b[0m             \u001b[0mReturns\u001b[0m \u001b[0mpredicted\u001b[0m \u001b[0mvalues\u001b[0m\u001b[0;34m.\u001b[0m\u001b[0;34m\u001b[0m\u001b[0;34m\u001b[0m\u001b[0m\n\u001b[1;32m    224\u001b[0m         \"\"\"\n\u001b[0;32m--> 225\u001b[0;31m         \u001b[0;32mreturn\u001b[0m \u001b[0mself\u001b[0m\u001b[0;34m.\u001b[0m\u001b[0m_decision_function\u001b[0m\u001b[0;34m(\u001b[0m\u001b[0mX\u001b[0m\u001b[0;34m)\u001b[0m\u001b[0;34m\u001b[0m\u001b[0;34m\u001b[0m\u001b[0m\n\u001b[0m\u001b[1;32m    226\u001b[0m \u001b[0;34m\u001b[0m\u001b[0m\n\u001b[1;32m    227\u001b[0m     \u001b[0m_preprocess_data\u001b[0m \u001b[0;34m=\u001b[0m \u001b[0mstaticmethod\u001b[0m\u001b[0;34m(\u001b[0m\u001b[0m_preprocess_data\u001b[0m\u001b[0;34m)\u001b[0m\u001b[0;34m\u001b[0m\u001b[0;34m\u001b[0m\u001b[0m\n",
            "\u001b[0;32m/usr/local/lib/python3.7/dist-packages/sklearn/linear_model/_base.py\u001b[0m in \u001b[0;36m_decision_function\u001b[0;34m(self, X)\u001b[0m\n\u001b[1;32m    207\u001b[0m         \u001b[0mX\u001b[0m \u001b[0;34m=\u001b[0m \u001b[0mcheck_array\u001b[0m\u001b[0;34m(\u001b[0m\u001b[0mX\u001b[0m\u001b[0;34m,\u001b[0m \u001b[0maccept_sparse\u001b[0m\u001b[0;34m=\u001b[0m\u001b[0;34m[\u001b[0m\u001b[0;34m'csr'\u001b[0m\u001b[0;34m,\u001b[0m \u001b[0;34m'csc'\u001b[0m\u001b[0;34m,\u001b[0m \u001b[0;34m'coo'\u001b[0m\u001b[0;34m]\u001b[0m\u001b[0;34m)\u001b[0m\u001b[0;34m\u001b[0m\u001b[0;34m\u001b[0m\u001b[0m\n\u001b[1;32m    208\u001b[0m         return safe_sparse_dot(X, self.coef_.T,\n\u001b[0;32m--> 209\u001b[0;31m                                dense_output=True) + self.intercept_\n\u001b[0m\u001b[1;32m    210\u001b[0m \u001b[0;34m\u001b[0m\u001b[0m\n\u001b[1;32m    211\u001b[0m     \u001b[0;32mdef\u001b[0m \u001b[0mpredict\u001b[0m\u001b[0;34m(\u001b[0m\u001b[0mself\u001b[0m\u001b[0;34m,\u001b[0m \u001b[0mX\u001b[0m\u001b[0;34m)\u001b[0m\u001b[0;34m:\u001b[0m\u001b[0;34m\u001b[0m\u001b[0;34m\u001b[0m\u001b[0m\n",
            "\u001b[0;32m/usr/local/lib/python3.7/dist-packages/sklearn/utils/extmath.py\u001b[0m in \u001b[0;36msafe_sparse_dot\u001b[0;34m(a, b, dense_output)\u001b[0m\n\u001b[1;32m    149\u001b[0m             \u001b[0mret\u001b[0m \u001b[0;34m=\u001b[0m \u001b[0mnp\u001b[0m\u001b[0;34m.\u001b[0m\u001b[0mdot\u001b[0m\u001b[0;34m(\u001b[0m\u001b[0ma\u001b[0m\u001b[0;34m,\u001b[0m \u001b[0mb\u001b[0m\u001b[0;34m)\u001b[0m\u001b[0;34m\u001b[0m\u001b[0;34m\u001b[0m\u001b[0m\n\u001b[1;32m    150\u001b[0m     \u001b[0;32melse\u001b[0m\u001b[0;34m:\u001b[0m\u001b[0;34m\u001b[0m\u001b[0;34m\u001b[0m\u001b[0m\n\u001b[0;32m--> 151\u001b[0;31m         \u001b[0mret\u001b[0m \u001b[0;34m=\u001b[0m \u001b[0ma\u001b[0m \u001b[0;34m@\u001b[0m \u001b[0mb\u001b[0m\u001b[0;34m\u001b[0m\u001b[0;34m\u001b[0m\u001b[0m\n\u001b[0m\u001b[1;32m    152\u001b[0m \u001b[0;34m\u001b[0m\u001b[0m\n\u001b[1;32m    153\u001b[0m     if (sparse.issparse(a) and sparse.issparse(b)\n",
            "\u001b[0;31mValueError\u001b[0m: matmul: Input operand 1 has a mismatch in its core dimension 0, with gufunc signature (n?,k),(k,m?)->(n?,m?) (size 58 is different from 1)"
          ]
        }
      ]
    },
    {
      "cell_type": "code",
      "metadata": {
        "id": "qSmbn_fuefaC"
      },
      "source": [
        "submission.to_csv('baseline2_0920.csv',index=False)"
      ],
      "execution_count": null,
      "outputs": []
    },
    {
      "cell_type": "code",
      "metadata": {
        "id": "lZmsji7ze14j"
      },
      "source": [
        ""
      ],
      "execution_count": null,
      "outputs": []
    }
  ]
}