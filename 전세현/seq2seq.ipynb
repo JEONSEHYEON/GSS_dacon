{
  "nbformat": 4,
  "nbformat_minor": 0,
  "metadata": {
    "accelerator": "GPU",
    "colab": {
      "name": "Untitled1.ipynb",
      "provenance": [],
      "authorship_tag": "ABX9TyOWb9oZ2kZ/x9skDbrRCsMy"
    },
    "kernelspec": {
      "display_name": "Python 3",
      "name": "python3"
    },
    "language_info": {
      "name": "python"
    }
  },
  "cells": [
    {
      "cell_type": "code",
      "metadata": {
        "colab": {
          "base_uri": "https://localhost:8080/"
        },
        "id": "soqc9Yb5T1RC",
        "outputId": "32eed642-d9b7-4c42-bcbc-9760928cd7f0"
      },
      "source": [
        "from google.colab import drive\n",
        "drive.mount('/content/drive')"
      ],
      "execution_count": null,
      "outputs": [
        {
          "name": "stdout",
          "output_type": "stream",
          "text": [
            "Drive already mounted at /content/drive; to attempt to forcibly remount, call drive.mount(\"/content/drive\", force_remount=True).\n"
          ]
        }
      ]
    },
    {
      "cell_type": "code",
      "metadata": {
        "id": "TT0mPlntvdjw"
      },
      "source": [
        "import pandas as pd\n",
        "import numpy as np\n",
        "import matplotlib.pyplot as plt\n",
        "from tqdm import tqdm\n",
        "import random\n",
        "import os\n",
        "\n",
        "import torch\n",
        "from torch import nn\n",
        "from torch.utils.data import Dataset, DataLoader"
      ],
      "execution_count": null,
      "outputs": []
    },
    {
      "cell_type": "code",
      "metadata": {
        "id": "7B9JHwRDveIf"
      },
      "source": [
        "def seed_everything(seed: int = 42):\n",
        "    random.seed(seed)\n",
        "    np.random.seed(seed)\n",
        "    os.environ[\"PYTHONHASHSEED\"] = str(seed)\n",
        "    torch.manual_seed(seed)\n",
        "    torch.cuda.manual_seed(seed)  # type: ignore\n",
        "    torch.backends.cudnn.deterministic = True  # type: ignore\n",
        "    torch.backends.cudnn.benchmark = True  # type: ignore"
      ],
      "execution_count": null,
      "outputs": []
    },
    {
      "cell_type": "code",
      "metadata": {
        "id": "A5JjdsHLvgVb"
      },
      "source": [
        "seed_everything(42)"
      ],
      "execution_count": null,
      "outputs": []
    },
    {
      "cell_type": "code",
      "metadata": {
        "id": "YyLo0ZFeviG8"
      },
      "source": [
        "data = pd.read_csv('/content/drive/MyDrive/농산물AI/test_files/train.csv')"
      ],
      "execution_count": null,
      "outputs": []
    },
    {
      "cell_type": "code",
      "metadata": {
        "id": "15fSb5tEUDEp"
      },
      "source": [
        "week_day_map = {}\n",
        "for i, d in enumerate(data['요일'].unique()):\n",
        "    week_day_map[d] = i\n",
        "data['요일'] = data['요일'].map(week_day_map)"
      ],
      "execution_count": null,
      "outputs": []
    },
    {
      "cell_type": "code",
      "metadata": {
        "id": "4L-5y9AwUM5K"
      },
      "source": [
        "norm = data.iloc[:, 1:].max(0)\n",
        "data.iloc[:, 1:] = data.iloc[:, 1:] / norm"
      ],
      "execution_count": null,
      "outputs": []
    },
    {
      "cell_type": "code",
      "metadata": {
        "id": "uC33TnKeUPcj"
      },
      "source": [
        "\n",
        "device = torch.device(\"cuda:0\") # GPU 사용\n",
        "target_n = 21 # 맞춰야하는 품목/품종의 수\n",
        "learning_rate = 5e-4 # 학습률\n",
        "BATCH_SIZE = 128 # 배치사이즈\n",
        "EPOCHS = 50 # 총 eopochs\n",
        "teacher_forcing = False # 교사강요 설정\n",
        "n_layers = 3 # rnn레이어 층\n",
        "dropout = 0.2 # 드롭아웃\n",
        "window_size = 28 # 인코더 시퀀스 길이\n",
        "future_size = 28 # 디코더 시퀀스 길이\n",
        "hidden_dim = 128 # rnn 히든차원\n",
        "save_path = f'/content/drive/MyDrive/best_model.pt' # 모델 저장 경로"
      ],
      "execution_count": null,
      "outputs": []
    },
    {
      "cell_type": "code",
      "metadata": {
        "id": "i4Vsxa8DURS9"
      },
      "source": [
        "x_data = []\n",
        "y_data = []\n",
        "for i in range(data.shape[0]-window_size-future_size):\n",
        "    x = data.iloc[i:i+window_size, 1:].to_numpy()\n",
        "    y = data.iloc[i+window_size:i+window_size+future_size, 3::2].to_numpy()\n",
        "    y_0 = np.zeros([1, y.shape[1]]) # 디코더 첫 입력값 추가\n",
        "    x_data.append(x)\n",
        "    y_data.append(np.concatenate([y_0, y], axis=0))\n",
        "x_data = np.array(x_data)\n",
        "y_data = np.array(y_data)"
      ],
      "execution_count": null,
      "outputs": []
    },
    {
      "cell_type": "code",
      "metadata": {
        "colab": {
          "base_uri": "https://localhost:8080/"
        },
        "id": "grgIMDzfUTzt",
        "outputId": "5644dbca-713c-4c7e-ff80-73be7ba8e218"
      },
      "source": [
        "x_data.shape, y_data.shape"
      ],
      "execution_count": null,
      "outputs": [
        {
          "data": {
            "text/plain": [
              "((1677, 28, 43), (1677, 29, 21))"
            ]
          },
          "execution_count": 37,
          "metadata": {},
          "output_type": "execute_result"
        }
      ]
    },
    {
      "cell_type": "code",
      "metadata": {
        "id": "CtkAN-SrUV6D"
      },
      "source": [
        "train_test_split = 1\n",
        "x_train = x_data[:-train_test_split-future_size]\n",
        "y_train = y_data[:-train_test_split-future_size]\n",
        "x_val = x_data[-train_test_split:]\n",
        "y_val = y_data[-train_test_split:]"
      ],
      "execution_count": null,
      "outputs": []
    },
    {
      "cell_type": "code",
      "metadata": {
        "id": "HYvNbEjsUXxs"
      },
      "source": [
        "class CustomDataset(Dataset):\n",
        "    def __init__(self, encoder_input, decoder_input):\n",
        "        self.encoder_input = encoder_input\n",
        "        self.decoder_input = decoder_input\n",
        "        \n",
        "    def __len__(self):\n",
        "        return len(self.encoder_input)\n",
        "    \n",
        "    def __getitem__(self, i):\n",
        "        return {\n",
        "            'encoder_input' : torch.tensor(self.encoder_input[i], dtype=torch.float32),\n",
        "            'decoder_input' : torch.tensor(self.decoder_input[i], dtype=torch.float32)\n",
        "        }"
      ],
      "execution_count": null,
      "outputs": []
    },
    {
      "cell_type": "code",
      "metadata": {
        "colab": {
          "base_uri": "https://localhost:8080/"
        },
        "id": "aFjxXAeRUaz_",
        "outputId": "f8b18cf4-590c-4e4c-d7d1-87d1f0691377"
      },
      "source": [
        "train_dataset = CustomDataset(x_train, y_train)\n",
        "val_dataset = CustomDataset(x_val, y_val)\n",
        "\n",
        "train_dataloader = torch.utils.data.DataLoader(train_dataset, batch_size=BATCH_SIZE, num_workers=16, shuffle=True)\n",
        "val_dataloader = torch.utils.data.DataLoader(val_dataset, batch_size=BATCH_SIZE, num_workers=16, shuffle=False)"
      ],
      "execution_count": null,
      "outputs": [
        {
          "name": "stderr",
          "output_type": "stream",
          "text": [
            "/usr/local/lib/python3.7/dist-packages/torch/utils/data/dataloader.py:481: UserWarning: This DataLoader will create 16 worker processes in total. Our suggested max number of worker in current system is 2, which is smaller than what this DataLoader is going to create. Please be aware that excessive worker creation might get DataLoader running slow or even freeze, lower the worker number to avoid potential slowness/freeze if necessary.\n",
            "  cpuset_checked))\n"
          ]
        }
      ]
    },
    {
      "cell_type": "code",
      "metadata": {
        "colab": {
          "base_uri": "https://localhost:8080/"
        },
        "id": "Sf5A33-oUdGv",
        "outputId": "1805c299-89a7-4f4d-91f1-895156c0150b"
      },
      "source": [
        "sample_batch = next(iter(train_dataloader))"
      ],
      "execution_count": null,
      "outputs": [
        {
          "name": "stderr",
          "output_type": "stream",
          "text": [
            "/usr/local/lib/python3.7/dist-packages/torch/utils/data/dataloader.py:481: UserWarning: This DataLoader will create 16 worker processes in total. Our suggested max number of worker in current system is 2, which is smaller than what this DataLoader is going to create. Please be aware that excessive worker creation might get DataLoader running slow or even freeze, lower the worker number to avoid potential slowness/freeze if necessary.\n",
            "  cpuset_checked))\n"
          ]
        }
      ]
    },
    {
      "cell_type": "code",
      "metadata": {
        "colab": {
          "base_uri": "https://localhost:8080/"
        },
        "id": "EukSAz9TUfQI",
        "outputId": "8eac52b8-0666-4fae-a2f7-c648c5dff448"
      },
      "source": [
        "sample_batch['encoder_input'].shape, sample_batch['decoder_input'].shape"
      ],
      "execution_count": null,
      "outputs": [
        {
          "data": {
            "text/plain": [
              "(torch.Size([128, 28, 43]), torch.Size([128, 29, 21]))"
            ]
          },
          "execution_count": 42,
          "metadata": {},
          "output_type": "execute_result"
        }
      ]
    },
    {
      "cell_type": "code",
      "metadata": {
        "id": "1yKuUSinUhAA"
      },
      "source": [
        "class Encoder(nn.Module):\n",
        "    def __init__(self, input_dim, hidden_dim, n_layers, dropout):\n",
        "        super().__init__()\n",
        "        self.n_layers = n_layers\n",
        "        \n",
        "        self.rnn = nn.GRU(input_dim, hidden_dim, n_layers, dropout=dropout)\n",
        "        self.dropout = nn.Dropout(dropout)\n",
        "\n",
        "    def forward(self, inp_seq):\n",
        "        inp_seq = inp_seq.permute(1,0,2)\n",
        "        outputs, hidden = self.rnn(inp_seq)\n",
        "        \n",
        "        return outputs, hidden"
      ],
      "execution_count": null,
      "outputs": []
    },
    {
      "cell_type": "code",
      "metadata": {
        "id": "gg-QA78oUiwN"
      },
      "source": [
        "class BahdanauAttention(nn.Module):\n",
        "    def __init__(self, dec_output_dim, units):\n",
        "        super(BahdanauAttention, self).__init__()\n",
        "        self.W1 = nn.Linear(dec_output_dim, units)\n",
        "        self.W2 = nn.Linear(dec_output_dim, units)\n",
        "        self.V = nn.Linear(dec_output_dim, 1)\n",
        "\n",
        "    def forward(self, hidden, enc_output):\n",
        "        query_with_time_axis = hidden.unsqueeze(1)\n",
        "        \n",
        "        score = self.V(torch.tanh(self.W1(query_with_time_axis) + self.W2(enc_output)))\n",
        "        \n",
        "        attention_weights = torch.softmax(score, axis=1)\n",
        "        \n",
        "        context_vector = attention_weights * enc_output\n",
        "        context_vector = torch.sum(context_vector, dim=1)\n",
        "\n",
        "        return context_vector, attention_weights"
      ],
      "execution_count": null,
      "outputs": []
    },
    {
      "cell_type": "code",
      "metadata": {
        "id": "2_XbeUPiUkue"
      },
      "source": [
        "class Decoder(nn.Module):\n",
        "    def __init__(self, dec_feature_size, encoder_hidden_dim, output_dim, decoder_hidden_dim, n_layers, dropout, attention):\n",
        "        super().__init__()\n",
        "        self.output_dim = output_dim\n",
        "        self.decoder_hidden_dim = decoder_hidden_dim\n",
        "        self.n_layers = n_layers\n",
        "        self.attention = attention\n",
        "        \n",
        "        self.layer = nn.Linear(dec_feature_size, encoder_hidden_dim)\n",
        "        self.rnn = nn.GRU(encoder_hidden_dim*2, decoder_hidden_dim, n_layers, dropout=dropout)\n",
        "        self.fc_out = nn.Linear(hidden_dim, output_dim)\n",
        "        self.dropout = nn.Dropout(dropout)\n",
        "\n",
        "    def forward(self, enc_output, dec_input, hidden):\n",
        "        dec_input = self.layer(dec_input)\n",
        "        context_vector, attention_weights = self.attention(hidden, enc_output)\n",
        "        dec_input = torch.cat([torch.sum(context_vector, dim=0), dec_input], dim=1)\n",
        "        dec_input = dec_input.unsqueeze(0)\n",
        "        \n",
        "        output, hidden = self.rnn(dec_input, hidden)\n",
        "\n",
        "        prediction = self.fc_out(output.sum(0))\n",
        "        \n",
        "        return prediction, hidden"
      ],
      "execution_count": null,
      "outputs": []
    },
    {
      "cell_type": "code",
      "metadata": {
        "id": "6ayCJDLUUnSQ"
      },
      "source": [
        "class Seq2Seq(nn.Module):\n",
        "    def __init__(self, encoder, decoder, attention):\n",
        "        super().__init__()\n",
        "        self.encoder = encoder\n",
        "        self.decoder = decoder\n",
        "        \n",
        "    def forward(self, encoder_input, decoder_input, teacher_forcing=False):\n",
        "        batch_size = decoder_input.size(0)\n",
        "        trg_len = decoder_input.size(1)\n",
        "        \n",
        "        outputs = torch.zeros(batch_size, trg_len-1, self.decoder.output_dim).to(device)\n",
        "        enc_output, hidden = self.encoder(encoder_input)\n",
        "        \n",
        "        dec_input = decoder_input[:, 0]\n",
        "        for t in range(1, trg_len):\n",
        "            output, hidden = self.decoder(enc_output, dec_input, hidden)\n",
        "            outputs[:, t-1] = output\n",
        "            if teacher_forcing == True:\n",
        "                dec_input = decoder_input[:, t]\n",
        "            else:\n",
        "                dec_input = output\n",
        "        \n",
        "        return outputs"
      ],
      "execution_count": null,
      "outputs": []
    },
    {
      "cell_type": "code",
      "metadata": {
        "id": "cIUCml6TUpM8"
      },
      "source": [
        "encoder = Encoder(input_dim=x_data.shape[-1], hidden_dim=hidden_dim, n_layers=n_layers, dropout=dropout)\n",
        "attention = BahdanauAttention(dec_output_dim=hidden_dim, units=hidden_dim)\n",
        "decoder = Decoder(\n",
        "    dec_feature_size=target_n, encoder_hidden_dim=hidden_dim, output_dim=target_n,\n",
        "    decoder_hidden_dim=hidden_dim, n_layers=n_layers, dropout=dropout,\n",
        "    attention = attention\n",
        ")\n",
        "\n",
        "model = Seq2Seq(encoder, decoder, attention)\n",
        "model = model.to(device)"
      ],
      "execution_count": null,
      "outputs": []
    },
    {
      "cell_type": "code",
      "metadata": {
        "id": "U_KhARTqUrEn"
      },
      "source": [
        "def my_custom_metric(pred, true):\n",
        "    pred = pred[:, [6, 13, 27]]\n",
        "    true = true[:, [6, 13, 27]]\n",
        "    target = torch.where(true!=0)\n",
        "    true = true[target]\n",
        "    pred = pred[target]\n",
        "    score = torch.mean(torch.abs((true-pred))/(true))\n",
        "    \n",
        "    return score"
      ],
      "execution_count": null,
      "outputs": []
    },
    {
      "cell_type": "code",
      "metadata": {
        "id": "uwaJXGCHUwlQ"
      },
      "source": [
        "optimizer = torch.optim.Adam(model.parameters(), lr=learning_rate)\n",
        "criterion = nn.L1Loss() # mae\n",
        "custom_metric = my_custom_metric"
      ],
      "execution_count": null,
      "outputs": []
    },
    {
      "cell_type": "code",
      "metadata": {
        "id": "MW9350gdUyVR"
      },
      "source": [
        "def train_step(batch_item, epoch, batch, training, teacher_forcing):\n",
        "    encoder_input = batch_item['encoder_input'].to(device)\n",
        "    decoder_input = batch_item['decoder_input'].to(device)\n",
        "    if training is True:\n",
        "        model.train()\n",
        "        optimizer.zero_grad()\n",
        "        with torch.cuda.amp.autocast():\n",
        "            output = model(encoder_input, decoder_input, teacher_forcing)\n",
        "            loss = criterion(output, decoder_input[:,1:])\n",
        "            score = custom_metric(output, decoder_input[:,1:])\n",
        "        loss.backward()\n",
        "        optimizer.step()\n",
        "        \n",
        "        return loss, score\n",
        "    else:\n",
        "        model.eval()\n",
        "        with torch.no_grad():\n",
        "            output = model(encoder_input, decoder_input, False)\n",
        "            loss = criterion(output, decoder_input[:,1:])\n",
        "            score = custom_metric(output, decoder_input[:,1:])\n",
        "        return loss, score"
      ],
      "execution_count": null,
      "outputs": []
    },
    {
      "cell_type": "code",
      "metadata": {
        "colab": {
          "background_save": true,
          "base_uri": "https://localhost:8080/"
        },
        "id": "8ISDU8irU0FF",
        "outputId": "f4659911-5afd-4273-bd23-149df1afea01"
      },
      "source": [
        "loss_plot, val_loss_plot = [], []\n",
        "score_plot, val_score_plot = [], []\n",
        "\n",
        "for epoch in range(EPOCHS):\n",
        "    total_loss, total_val_loss = 0, 0\n",
        "    total_score, total_val_score = 0, 0\n",
        "    \n",
        "    tqdm_dataset = tqdm(enumerate(train_dataloader))\n",
        "    training = True\n",
        "    for batch, batch_item in tqdm_dataset:\n",
        "        batch_loss, batch_score = train_step(batch_item, epoch, batch, training, teacher_forcing)\n",
        "        total_loss += batch_loss\n",
        "        total_score += batch_score\n",
        "        \n",
        "        tqdm_dataset.set_postfix({\n",
        "            'Epoch': epoch + 1,\n",
        "            'Loss': '{:06f}'.format(batch_loss.item()),\n",
        "            'Total Loss' : '{:06f}'.format(total_loss/(batch+1)),\n",
        "            'Score': '{:06f}'.format(batch_score.item()),\n",
        "            'Total Score' : '{:06f}'.format(total_score/(batch+1)),\n",
        "        })\n",
        "    loss_plot.append(total_loss/(batch+1))\n",
        "    score_plot.append(total_score/(batch+1))\n",
        "    \n",
        "    tqdm_dataset = tqdm(enumerate(val_dataloader))\n",
        "    training = False\n",
        "    for batch, batch_item in tqdm_dataset:\n",
        "        batch_loss, batch_val_score = train_step(batch_item, epoch, batch, training, teacher_forcing)\n",
        "        total_val_loss += batch_loss\n",
        "        total_val_score += batch_val_score\n",
        "        \n",
        "        tqdm_dataset.set_postfix({\n",
        "            'Epoch': epoch + 1,\n",
        "            'Val Loss': '{:06f}'.format(batch_loss.item()),\n",
        "            'Total Val Loss' : '{:06f}'.format(total_val_loss/(batch+1)),\n",
        "            'Val Score': '{:06f}'.format(batch_val_score.item()),\n",
        "            'Total Val Score' : '{:06f}'.format(total_val_score/(batch+1)),\n",
        "        })\n",
        "    val_loss_plot.append(total_val_loss/(batch+1))\n",
        "    val_score_plot.append(total_val_score/(batch+1))\n",
        "    \n",
        "    if np.min(val_loss_plot) == val_loss_plot[-1]:\n",
        "        torch.save(model, save_path)"
      ],
      "execution_count": null,
      "outputs": [
        {
          "name": "stderr",
          "output_type": "stream",
          "text": [
            "/usr/local/lib/python3.7/dist-packages/torch/utils/data/dataloader.py:481: UserWarning: This DataLoader will create 16 worker processes in total. Our suggested max number of worker in current system is 2, which is smaller than what this DataLoader is going to create. Please be aware that excessive worker creation might get DataLoader running slow or even freeze, lower the worker number to avoid potential slowness/freeze if necessary.\n",
            "  cpuset_checked))\n",
            "0it [00:00, ?it/s]"
          ]
        }
      ]
    },
    {
      "cell_type": "code",
      "metadata": {
        "colab": {
          "base_uri": "https://localhost:8080/",
          "height": 573
        },
        "id": "Nk3G4mPIU3h5",
        "outputId": "dc1d0ea2-45d2-4c27-d7a9-f1706ee6cfbe"
      },
      "source": [
        "plt.plot(loss_plot, label='train_loss')\n",
        "plt.plot(val_loss_plot, label='val_loss')\n",
        "plt.xlabel('epoch')\n",
        "plt.ylabel('loss(mae)')\n",
        "plt.title('loss_plot')\n",
        "plt.legend()\n",
        "plt.show()\n",
        "\n",
        "plt.plot(score_plot, label='train_score')\n",
        "plt.plot(val_score_plot, label='val_score')\n",
        "plt.xlabel('epoch')\n",
        "plt.ylabel('score(nmae)')\n",
        "plt.title('score_plot')\n",
        "plt.legend()\n",
        "plt.show()"
      ],
      "execution_count": null,
      "outputs": [
        {
          "data": {
            "image/png": "[encoded data removed]",
            "text/plain": [
              "<Figure size 432x288 with 1 Axes>"
            ]
          },
          "metadata": {},
          "output_type": "display_data"
        },
        {
          "data": {
            "image/png": "[encoded data removed]",
            "text/plain": [
              "<Figure size 432x288 with 1 Axes>"
            ]
          },
          "metadata": {},
          "output_type": "display_data"
        }
      ]
    },
    {
      "cell_type": "code",
      "metadata": {
        "id": "Plp8vFzfU6-6"
      },
      "source": [
        "model = torch.load(save_path)\n",
        "model = model.to(device)"
      ],
      "execution_count": null,
      "outputs": []
    },
    {
      "cell_type": "code",
      "metadata": {
        "id": "r6MYVOx7inbR"
      },
      "source": [
        "def predict(encoder_input):\n",
        "    model.train()\n",
        "    encoder_input = encoder_input.to(device)\n",
        "    decoder_input = torch.zeros([1, future_size+1, target_n], dtype=torch.float32).to(device)\n",
        "    with torch.no_grad():\n",
        "        output = model(encoder_input, decoder_input, False)\n",
        "    return output.cpu()"
      ],
      "execution_count": null,
      "outputs": []
    },
    {
      "cell_type": "code",
      "metadata": {
        "id": "Oeb9H9iLipdB"
      },
      "source": [
        "submission = pd.read_csv('/content/drive/MyDrive/농산물AI/sample_submission.csv')"
      ],
      "execution_count": null,
      "outputs": []
    },
    {
      "cell_type": "code",
      "metadata": {
        "id": "3LfYvbPJiqEx"
      },
      "source": [
        "public_date_list = submission[submission['예측대상일자'].str.contains('2020')]['예측대상일자'].str.split('+').str[0].unique()"
      ],
      "execution_count": null,
      "outputs": []
    },
    {
      "cell_type": "code",
      "metadata": {
        "id": "inWiGIVNista"
      },
      "source": [
        "outputs = []\n",
        "troch_norm = torch.tensor(norm.to_numpy()[2::2])\n",
        "for date in public_date_list:\n",
        "    test_df = pd.read_csv(f'/content/drive/MyDrive/농산물AI/test_files/test_{date}.csv')\n",
        "    data = pd.read_csv('/content/drive/MyDrive/농산물AI/test_files/train.csv')\n",
        "    data = pd.concat([data, test_df]).iloc[-window_size:]\n",
        "    \n",
        "    week_day_map = {}\n",
        "    for i, d in enumerate(data['요일'].unique()):\n",
        "        week_day_map[d] = i\n",
        "    data['요일'] = data['요일'].map(week_day_map)\n",
        "    data = data.iloc[:,1:]/norm\n",
        "    \n",
        "    encoder_input = torch.tensor(data.to_numpy(), dtype=torch.float32)\n",
        "    encoder_input = encoder_input.unsqueeze(0)\n",
        "    output = predict(encoder_input)*troch_norm\n",
        "    \n",
        "    idx = submission[submission['예측대상일자'].str.contains(date)].index\n",
        "    submission.loc[idx, '배추_가격(원/kg)':] = output[0,[6,13,27]].numpy()"
      ],
      "execution_count": null,
      "outputs": []
    },
    {
      "cell_type": "code",
      "metadata": {
        "id": "yyM6qofCiuII"
      },
      "source": [
        "submission.to_csv('dacon_baseline.csv', index=False)"
      ],
      "execution_count": null,
      "outputs": []
    }
  ]
}